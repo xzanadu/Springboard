{
 "cells": [
  {
   "cell_type": "markdown",
   "metadata": {},
   "source": [
    "# XML example and exercise\n",
    "****\n",
    "+ study examples of accessing nodes in XML tree structure  \n",
    "+ work on exercise to be completed and submitted\n",
    "****\n",
    "+ reference: https://docs.python.org/2.7/library/xml.etree.elementtree.html\n",
    "+ data source: http://www.dbis.informatik.uni-goettingen.de/Mondial\n",
    "****"
   ]
  },
  {
   "cell_type": "code",
   "execution_count": 75,
   "metadata": {
    "collapsed": true
   },
   "outputs": [],
   "source": [
    "from xml.etree import ElementTree as ET\n",
    "import pandas as pd"
   ]
  },
  {
   "cell_type": "markdown",
   "metadata": {},
   "source": [
    "## XML example\n",
    "\n",
    "+ for details about tree traversal and iterators, see https://docs.python.org/2.7/library/xml.etree.elementtree.html"
   ]
  },
  {
   "cell_type": "code",
   "execution_count": 27,
   "metadata": {
    "collapsed": false
   },
   "outputs": [],
   "source": [
    "document = ET.parse( './data/mondial_database_less.xml' )\n"
   ]
  },
  {
   "cell_type": "code",
   "execution_count": 28,
   "metadata": {
    "collapsed": false
   },
   "outputs": [
    {
     "name": "stdout",
     "output_type": "stream",
     "text": [
      "Albania\n",
      "Greece\n",
      "Macedonia\n",
      "Serbia\n",
      "Montenegro\n",
      "Kosovo\n",
      "Andorra\n"
     ]
    }
   ],
   "source": [
    "# print names of all countries\n",
    "for child in document.getroot():\n",
    "    print child.find('name').text"
   ]
  },
  {
   "cell_type": "code",
   "execution_count": 64,
   "metadata": {
    "collapsed": false
   },
   "outputs": [
    {
     "name": "stdout",
     "output_type": "stream",
     "text": [
      "* Albania: Tirana, Shkodër, Durrës, Vlorë, Elbasan, Korçë\n",
      "* Greece: Komotini, Kavala, Athina, Peiraias, Peristeri, Acharnes, Patra, Kozani, Kerkyra, Ioannina, Thessaloniki, Iraklio, Chania, Ermoupoli, Rhodes, Tripoli, Lamia, Chalkida, Larissa, Volos, Mytilini, Karyes\n",
      "* Macedonia: Skopje, Kumanovo\n",
      "* Serbia: Beograd, Novi Sad, Niš\n",
      "* Montenegro: Podgorica\n",
      "* Kosovo: Prishtine\n",
      "* Andorra: Andorra la Vella\n"
     ]
    }
   ],
   "source": [
    "# print names of all countries and their cities\n",
    "for element in document_tree.iterfind('country'):\n",
    "    print '* ' + element.find('name').text + ':',\n",
    "    capitals_string = ''\n",
    "    for subelement in element.getiterator('city'):\n",
    "        capitals_string += subelement.find('name').text + ', '\n",
    "    print capitals_string[:-2]"
   ]
  },
  {
   "cell_type": "markdown",
   "metadata": {},
   "source": [
    "****\n",
    "## XML exercise\n",
    "\n",
    "Using data in 'data/mondial_database.xml', the examples above, and refering to https://docs.python.org/2.7/library/xml.etree.elementtree.html, find\n",
    "\n",
    "1. 10 countries with the lowest infant mortality rates\n",
    "2. 10 cities with the largest population\n",
    "3. 10 ethnic groups with the largest overall populations (sum of best/latest estimates over all countries)\n",
    "4. name and country of a) longest river, b) largest lake and c) airport at highest elevation"
   ]
  },
  {
   "cell_type": "markdown",
   "metadata": {},
   "source": [
    "****\n",
    "## Quesion 1\n",
    "* Ten countries with the lowest infant mortality rates\n",
    "****"
   ]
  },
  {
   "cell_type": "code",
   "execution_count": 289,
   "metadata": {
    "collapsed": false
   },
   "outputs": [
    {
     "data": {
      "text/html": [
       "<div>\n",
       "<table border=\"1\" class=\"dataframe\">\n",
       "  <thead>\n",
       "    <tr style=\"text-align: right;\">\n",
       "      <th></th>\n",
       "      <th>country</th>\n",
       "      <th>infant mortality</th>\n",
       "    </tr>\n",
       "  </thead>\n",
       "  <tbody>\n",
       "    <tr>\n",
       "      <th>36</th>\n",
       "      <td>Monaco</td>\n",
       "      <td>1.81</td>\n",
       "    </tr>\n",
       "    <tr>\n",
       "      <th>90</th>\n",
       "      <td>Japan</td>\n",
       "      <td>2.13</td>\n",
       "    </tr>\n",
       "    <tr>\n",
       "      <th>109</th>\n",
       "      <td>Bermuda</td>\n",
       "      <td>2.48</td>\n",
       "    </tr>\n",
       "    <tr>\n",
       "      <th>34</th>\n",
       "      <td>Norway</td>\n",
       "      <td>2.48</td>\n",
       "    </tr>\n",
       "    <tr>\n",
       "      <th>98</th>\n",
       "      <td>Singapore</td>\n",
       "      <td>2.53</td>\n",
       "    </tr>\n",
       "    <tr>\n",
       "      <th>35</th>\n",
       "      <td>Sweden</td>\n",
       "      <td>2.60</td>\n",
       "    </tr>\n",
       "    <tr>\n",
       "      <th>8</th>\n",
       "      <td>Czech Republic</td>\n",
       "      <td>2.63</td>\n",
       "    </tr>\n",
       "    <tr>\n",
       "      <th>72</th>\n",
       "      <td>Hong Kong</td>\n",
       "      <td>2.73</td>\n",
       "    </tr>\n",
       "    <tr>\n",
       "      <th>73</th>\n",
       "      <td>Macao</td>\n",
       "      <td>3.13</td>\n",
       "    </tr>\n",
       "    <tr>\n",
       "      <th>39</th>\n",
       "      <td>Iceland</td>\n",
       "      <td>3.15</td>\n",
       "    </tr>\n",
       "  </tbody>\n",
       "</table>\n",
       "</div>"
      ],
      "text/plain": [
       "            country  infant mortality\n",
       "36           Monaco              1.81\n",
       "90            Japan              2.13\n",
       "109         Bermuda              2.48\n",
       "34           Norway              2.48\n",
       "98        Singapore              2.53\n",
       "35           Sweden              2.60\n",
       "8    Czech Republic              2.63\n",
       "72        Hong Kong              2.73\n",
       "73            Macao              3.13\n",
       "39          Iceland              3.15"
      ]
     },
     "execution_count": 289,
     "metadata": {},
     "output_type": "execute_result"
    }
   ],
   "source": [
    "document = ET.parse( './data/mondial_database.xml' )\n",
    "root = document.getroot()\n",
    "cntry = []\n",
    "infmort = []\n",
    "for country in root.iter('country'):\n",
    "    if country.find('name') != None:\n",
    "        if country.find('infant_mortality') != None:\n",
    "            cntry.append(country.find('name').text)\n",
    "            infmort.append(float(country.find('infant_mortality').text))\n",
    "        else:\n",
    "            continue\n",
    "    else:\n",
    "        continue\n",
    "\n",
    "data = {'country':cntry, 'infant mortality': infmort}\n",
    "df = pd.DataFrame(data).sort_values(by='infant mortality').head(10)\n",
    "df"
   ]
  },
  {
   "cell_type": "markdown",
   "metadata": {},
   "source": [
    "****\n",
    "## Quesion 2\n",
    "* Ten cities with the largest population\n",
    "****"
   ]
  },
  {
   "cell_type": "code",
   "execution_count": 290,
   "metadata": {
    "collapsed": false
   },
   "outputs": [
    {
     "data": {
      "text/html": [
       "<div>\n",
       "<table border=\"1\" class=\"dataframe\">\n",
       "  <thead>\n",
       "    <tr style=\"text-align: right;\">\n",
       "      <th></th>\n",
       "      <th>city</th>\n",
       "      <th>population</th>\n",
       "    </tr>\n",
       "  </thead>\n",
       "  <tbody>\n",
       "    <tr>\n",
       "      <th>8</th>\n",
       "      <td>Beograd</td>\n",
       "      <td>1639121</td>\n",
       "    </tr>\n",
       "    <tr>\n",
       "      <th>56</th>\n",
       "      <td>Montevideo</td>\n",
       "      <td>1318755</td>\n",
       "    </tr>\n",
       "    <tr>\n",
       "      <th>23</th>\n",
       "      <td>Sofia</td>\n",
       "      <td>1270284</td>\n",
       "    </tr>\n",
       "    <tr>\n",
       "      <th>39</th>\n",
       "      <td>Yerevan</td>\n",
       "      <td>1060138</td>\n",
       "    </tr>\n",
       "    <tr>\n",
       "      <th>42</th>\n",
       "      <td>Kathmandu</td>\n",
       "      <td>1003285</td>\n",
       "    </tr>\n",
       "    <tr>\n",
       "      <th>18</th>\n",
       "      <td>Zagreb</td>\n",
       "      <td>686568</td>\n",
       "    </tr>\n",
       "    <tr>\n",
       "      <th>52</th>\n",
       "      <td>Kingston</td>\n",
       "      <td>662426</td>\n",
       "    </tr>\n",
       "    <tr>\n",
       "      <th>14</th>\n",
       "      <td>Rīga</td>\n",
       "      <td>658640</td>\n",
       "    </tr>\n",
       "    <tr>\n",
       "      <th>15</th>\n",
       "      <td>Vilnius</td>\n",
       "      <td>535631</td>\n",
       "    </tr>\n",
       "    <tr>\n",
       "      <th>35</th>\n",
       "      <td>Dublin</td>\n",
       "      <td>525383</td>\n",
       "    </tr>\n",
       "  </tbody>\n",
       "</table>\n",
       "</div>"
      ],
      "text/plain": [
       "          city  population\n",
       "8      Beograd     1639121\n",
       "56  Montevideo     1318755\n",
       "23       Sofia     1270284\n",
       "39     Yerevan     1060138\n",
       "42   Kathmandu     1003285\n",
       "18      Zagreb      686568\n",
       "52    Kingston      662426\n",
       "14        Rīga      658640\n",
       "15     Vilnius      535631\n",
       "35      Dublin      525383"
      ]
     },
     "execution_count": 290,
     "metadata": {},
     "output_type": "execute_result"
    }
   ],
   "source": [
    "document = ET.parse( './data/mondial_database.xml' )\n",
    "root = document.getroot()\n",
    "cityList = []\n",
    "popList = []\n",
    "for city in root.findall('country/city'):\n",
    "    if city.findtext('name') != None:\n",
    "        for population in city.findall('population'):\n",
    "            if population.attrib['year'] != '2011':\n",
    "                continue;\n",
    "            else:\n",
    "                popList.append(int(population.text))\n",
    "                cityList.append(city.findtext('name'))\n",
    "data = {'city' : cityList, 'population' : popList}\n",
    "df = pd.DataFrame(data).sort_values('population', ascending=False).head(10)    \n",
    "df \n",
    "        "
   ]
  },
  {
   "cell_type": "markdown",
   "metadata": {},
   "source": [
    "****\n",
    "## Quesion 3\n",
    "* Ten ethnic groups with the largest overall populations\n",
    "****"
   ]
  },
  {
   "cell_type": "code",
   "execution_count": 291,
   "metadata": {
    "collapsed": false,
    "scrolled": true
   },
   "outputs": [
    {
     "data": {
      "text/html": [
       "<div>\n",
       "<table border=\"1\" class=\"dataframe\">\n",
       "  <thead>\n",
       "    <tr style=\"text-align: right;\">\n",
       "      <th></th>\n",
       "      <th>Ethnic Population</th>\n",
       "    </tr>\n",
       "    <tr>\n",
       "      <th>ethnicity</th>\n",
       "      <th></th>\n",
       "    </tr>\n",
       "  </thead>\n",
       "  <tbody>\n",
       "    <tr>\n",
       "      <th>Han Chinese</th>\n",
       "      <td>1.245059e+09</td>\n",
       "    </tr>\n",
       "    <tr>\n",
       "      <th>Indo-Aryan</th>\n",
       "      <td>8.718156e+08</td>\n",
       "    </tr>\n",
       "    <tr>\n",
       "      <th>European</th>\n",
       "      <td>4.948722e+08</td>\n",
       "    </tr>\n",
       "    <tr>\n",
       "      <th>African</th>\n",
       "      <td>3.183251e+08</td>\n",
       "    </tr>\n",
       "    <tr>\n",
       "      <th>Dravidian</th>\n",
       "      <td>3.027137e+08</td>\n",
       "    </tr>\n",
       "    <tr>\n",
       "      <th>Mestizo</th>\n",
       "      <td>1.577344e+08</td>\n",
       "    </tr>\n",
       "    <tr>\n",
       "      <th>Bengali</th>\n",
       "      <td>1.467769e+08</td>\n",
       "    </tr>\n",
       "    <tr>\n",
       "      <th>Russian</th>\n",
       "      <td>1.318570e+08</td>\n",
       "    </tr>\n",
       "    <tr>\n",
       "      <th>Japanese</th>\n",
       "      <td>1.265342e+08</td>\n",
       "    </tr>\n",
       "    <tr>\n",
       "      <th>Malay</th>\n",
       "      <td>1.219936e+08</td>\n",
       "    </tr>\n",
       "  </tbody>\n",
       "</table>\n",
       "</div>"
      ],
      "text/plain": [
       "             Ethnic Population\n",
       "ethnicity                     \n",
       "Han Chinese       1.245059e+09\n",
       "Indo-Aryan        8.718156e+08\n",
       "European          4.948722e+08\n",
       "African           3.183251e+08\n",
       "Dravidian         3.027137e+08\n",
       "Mestizo           1.577344e+08\n",
       "Bengali           1.467769e+08\n",
       "Russian           1.318570e+08\n",
       "Japanese          1.265342e+08\n",
       "Malay             1.219936e+08"
      ]
     },
     "execution_count": 291,
     "metadata": {},
     "output_type": "execute_result"
    }
   ],
   "source": [
    "document = ET.parse( './data/mondial_database.xml' )\n",
    "root = document.getroot()\n",
    "ethnicityList = []\n",
    "popList = []\n",
    "for country in root.findall('country'):\n",
    "    for population in reversed(country.findall('population')):\n",
    "        popList.append(int(population.text))\n",
    "        for ethnicity in country.findall('ethnicgroup'):\n",
    "            ethnicityList.append((int(population.text), float(ethnicity.attrib['percentage']), ethnicity.text))\n",
    "        break\n",
    "\n",
    "df= pd.DataFrame(ethnicityList, columns=['population', 'percentage', 'ethnicity'])\n",
    "df['Ethnic Population'] = (df.population * df.percentage)/100\n",
    "del df['population']\n",
    "del df['percentage']\n",
    "df.groupby('ethnicity').sum().sort_values(by='Ethnic Population', ascending=False).head(10)"
   ]
  },
  {
   "cell_type": "markdown",
   "metadata": {},
   "source": [
    "****\n",
    "## Quesion 4\n",
    "* Name and country of a) longest river, b) largest lake and c) airport at highest elevation\n",
    "****\n"
   ]
  },
  {
   "cell_type": "code",
   "execution_count": 292,
   "metadata": {
    "collapsed": false
   },
   "outputs": [
    {
     "data": {
      "text/html": [
       "<div>\n",
       "<table border=\"1\" class=\"dataframe\">\n",
       "  <thead>\n",
       "    <tr style=\"text-align: right;\">\n",
       "      <th></th>\n",
       "      <th>Length</th>\n",
       "      <th>Name</th>\n",
       "      <th>Country Name</th>\n",
       "    </tr>\n",
       "  </thead>\n",
       "  <tbody>\n",
       "    <tr>\n",
       "      <th>0</th>\n",
       "      <td>6448.0</td>\n",
       "      <td>Amazonas</td>\n",
       "      <td>Peru</td>\n",
       "    </tr>\n",
       "    <tr>\n",
       "      <th>9</th>\n",
       "      <td>6448.0</td>\n",
       "      <td>Amazonas</td>\n",
       "      <td>Colombia</td>\n",
       "    </tr>\n",
       "    <tr>\n",
       "      <th>1</th>\n",
       "      <td>6448.0</td>\n",
       "      <td>Amazonas</td>\n",
       "      <td>Brazil</td>\n",
       "    </tr>\n",
       "  </tbody>\n",
       "</table>\n",
       "</div>"
      ],
      "text/plain": [
       "   Length      Name Country Name\n",
       "0  6448.0  Amazonas         Peru\n",
       "9  6448.0  Amazonas     Colombia\n",
       "1  6448.0  Amazonas       Brazil"
      ]
     },
     "execution_count": 292,
     "metadata": {},
     "output_type": "execute_result"
    }
   ],
   "source": [
    "document = ET.parse( './data/mondial_database.xml' )\n",
    "root = document.getroot()\n",
    "riverList = []\n",
    "countryList = []\n",
    "for river in root.findall('river'):\n",
    "    if (river.find('length') != None and river.find('name') != None):\n",
    "        if len(river.get('country').split(' ')) == 1:\n",
    "            riverList.append((float(river.find('length').text), river.find('name').text, river.get('country')))\n",
    "        else:\n",
    "            for eachCountry in river.get('country').split(' '):\n",
    "                riverList.append((float(river.find('length').text), river.find('name').text, eachCountry))\n",
    "\n",
    "rdf = pd.DataFrame(riverList, columns=['Length', 'Name', 'Code']).sort_values(by='Length', ascending=False)\n",
    "\n",
    "for country in root.findall('country'):\n",
    "    countryList.append((country.get('car_code'), country.find('name').text))\n",
    "cdf = pd.DataFrame(countryList, columns=['Code', 'Country Name'])\n",
    "\n",
    "rdf = rdf.sort_values(by='Length', ascending=False)\n",
    "rdf = rdf.merge(cdf, on='Code').sort_values(by='Length', ascending=False)\n",
    "del rdf['Code']\n",
    "rdf.head(3)"
   ]
  },
  {
   "cell_type": "code",
   "execution_count": 293,
   "metadata": {
    "collapsed": false
   },
   "outputs": [
    {
     "data": {
      "text/html": [
       "<div>\n",
       "<table border=\"1\" class=\"dataframe\">\n",
       "  <thead>\n",
       "    <tr style=\"text-align: right;\">\n",
       "      <th></th>\n",
       "      <th>Area</th>\n",
       "      <th>Name</th>\n",
       "      <th>Country Name</th>\n",
       "    </tr>\n",
       "  </thead>\n",
       "  <tbody>\n",
       "    <tr>\n",
       "      <th>0</th>\n",
       "      <td>386400.0</td>\n",
       "      <td>Caspian Sea</td>\n",
       "      <td>Russia</td>\n",
       "    </tr>\n",
       "    <tr>\n",
       "      <th>13</th>\n",
       "      <td>386400.0</td>\n",
       "      <td>Caspian Sea</td>\n",
       "      <td>Turkmenistan</td>\n",
       "    </tr>\n",
       "    <tr>\n",
       "      <th>9</th>\n",
       "      <td>386400.0</td>\n",
       "      <td>Caspian Sea</td>\n",
       "      <td>Iran</td>\n",
       "    </tr>\n",
       "    <tr>\n",
       "      <th>15</th>\n",
       "      <td>386400.0</td>\n",
       "      <td>Caspian Sea</td>\n",
       "      <td>Kazakhstan</td>\n",
       "    </tr>\n",
       "    <tr>\n",
       "      <th>14</th>\n",
       "      <td>386400.0</td>\n",
       "      <td>Caspian Sea</td>\n",
       "      <td>Azerbaijan</td>\n",
       "    </tr>\n",
       "  </tbody>\n",
       "</table>\n",
       "</div>"
      ],
      "text/plain": [
       "        Area         Name  Country Name\n",
       "0   386400.0  Caspian Sea        Russia\n",
       "13  386400.0  Caspian Sea  Turkmenistan\n",
       "9   386400.0  Caspian Sea          Iran\n",
       "15  386400.0  Caspian Sea    Kazakhstan\n",
       "14  386400.0  Caspian Sea    Azerbaijan"
      ]
     },
     "execution_count": 293,
     "metadata": {},
     "output_type": "execute_result"
    }
   ],
   "source": [
    "document = ET.parse( './data/mondial_database.xml' )\n",
    "root = document.getroot()\n",
    "\n",
    "lakeList = []\n",
    "countryList = []\n",
    "\n",
    "for lake in root.findall('lake'):\n",
    "    if (lake.find('area') != None and lake.find('name') != None):\n",
    "        if len(lake.get('country').split(' ')) == 1:\n",
    "            lakeList.append((float(lake.find('area').text), lake.find('name').text, lake.get('country')))\n",
    "        else:\n",
    "            for eachCountry in lake.get('country').split(' '):\n",
    "                lakeList.append((float(lake.find('area').text), lake.find('name').text, eachCountry))\n",
    "                #lakeList.append((float(lake.find('area').text), lake.find('name').text, lake.get('country')))\n",
    "\n",
    "\n",
    "ldf = pd.DataFrame(lakeList, columns=['Area', 'Name', 'Code']).sort_values(by='Area', ascending=False)\n",
    "for country in root.findall('country'):\n",
    "    countryList.append((country.get('car_code'), country.find('name').text))\n",
    "cdf = pd.DataFrame(countryList, columns=['Code', 'Country Name'])\n",
    "\n",
    "ldf = ldf.sort_values(by='Area', ascending=False)\n",
    "ldf = ldf.merge(cdf, on='Code').sort_values(by='Area', ascending=False)\n",
    "del ldf['Code']\n",
    "ldf.head(5)"
   ]
  },
  {
   "cell_type": "code",
   "execution_count": 294,
   "metadata": {
    "collapsed": false
   },
   "outputs": [
    {
     "data": {
      "text/html": [
       "<div>\n",
       "<table border=\"1\" class=\"dataframe\">\n",
       "  <thead>\n",
       "    <tr style=\"text-align: right;\">\n",
       "      <th></th>\n",
       "      <th>Elevation</th>\n",
       "      <th>Name</th>\n",
       "      <th>Country Name</th>\n",
       "    </tr>\n",
       "  </thead>\n",
       "  <tbody>\n",
       "    <tr>\n",
       "      <th>0</th>\n",
       "      <td>4063</td>\n",
       "      <td>El Alto Intl</td>\n",
       "      <td>Bolivia</td>\n",
       "    </tr>\n",
       "  </tbody>\n",
       "</table>\n",
       "</div>"
      ],
      "text/plain": [
       "   Elevation          Name Country Name\n",
       "0       4063  El Alto Intl      Bolivia"
      ]
     },
     "execution_count": 294,
     "metadata": {},
     "output_type": "execute_result"
    }
   ],
   "source": [
    "document = ET.parse( './data/mondial_database.xml' )\n",
    "root = document.getroot()\n",
    "airportList = []\n",
    "countryList = []\n",
    "for airport in root.findall('airport'):\n",
    "    if (airport.find('elevation').text != None and airport.find('name') != None):\n",
    "        airportList.append((int(airport.find('elevation').text), airport.find('name').text, airport.get('country')))\n",
    "adf = pd.DataFrame(airportList, columns=['Elevation', 'Name', 'Code']).sort_values(by='Elevation', ascending=False).head(1)\n",
    "\n",
    "for country in root.findall('country'):\n",
    "    countryList.append((country.get('car_code'), country.find('name').text))\n",
    "cdf = pd.DataFrame(countryList, columns=['Code', 'Country Name'])\n",
    "adf = adf.merge(cdf, on='Code')\n",
    "del adf['Code']\n",
    "adf"
   ]
  },
  {
   "cell_type": "code",
   "execution_count": null,
   "metadata": {
    "collapsed": false
   },
   "outputs": [],
   "source": []
  },
  {
   "cell_type": "code",
   "execution_count": null,
   "metadata": {
    "collapsed": true
   },
   "outputs": [],
   "source": []
  }
 ],
 "metadata": {
  "kernelspec": {
   "display_name": "Python 2",
   "language": "python",
   "name": "python2"
  },
  "language_info": {
   "codemirror_mode": {
    "name": "ipython",
    "version": 2
   },
   "file_extension": ".py",
   "mimetype": "text/x-python",
   "name": "python",
   "nbconvert_exporter": "python",
   "pygments_lexer": "ipython2",
   "version": "2.7.11"
  }
 },
 "nbformat": 4,
 "nbformat_minor": 0
}
